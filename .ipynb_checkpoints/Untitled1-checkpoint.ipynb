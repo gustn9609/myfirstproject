{
 "cells": [
  {
   "cell_type": "code",
   "execution_count": null,
   "id": "cb429d27",
   "metadata": {},
   "outputs": [],
   "source": [
    "# !pip install selenium"
   ]
  },
  {
   "cell_type": "code",
   "execution_count": 9,
   "id": "9506bf48",
   "metadata": {},
   "outputs": [
    {
     "name": "stderr",
     "output_type": "stream",
     "text": [
      "C:\\Users\\hyunsoo\\AppData\\Local\\Temp/ipykernel_10888/2722968986.py:19: DeprecationWarning: find_element_by_css_selector is deprecated. Please use find_element(by=By.CSS_SELECTOR, value=css_selector) instead\n",
      "  element = driver.find_element_by_css_selector(\"#sp_nws1\")\n"
     ]
    }
   ],
   "source": [
    "def capture_news(url,name):\n",
    "    from selenium import webdriver\n",
    "    from PIL import Image\n",
    "    from io import BytesIO\n",
    "    from selenium.webdriver.chrome.options import Options\n",
    "\n",
    "    chrome_options = Options()\n",
    "    # chrome_options.add_argument(\"--headless\")\n",
    "    driver = webdriver.Chrome(options = chrome_options)\n",
    "\n",
    "    driver.get(url)\n",
    "\n",
    "    # 전체 페이지의 사이즈를 구하여 브라우저의 창 크기를 확대하고 스크린캡처를 합니다.\n",
    "    page_width = driver.execute_script('return document.body.parentNode.scrollWidth')\n",
    "    page_height = driver.execute_script('return document.body.parentNode.scrollHeight')\n",
    "    driver.set_window_size(page_width, page_height)\n",
    "    png = driver.get_screenshot_as_png()\n",
    "\n",
    "    # 특정 element의 위치를 구하고 selenium 창을 닫습니다.\n",
    "    element = driver.find_element_by_css_selector(\"#sp_nws1\")\n",
    "    image_location = element.location\n",
    "    image_size = element.size\n",
    "    driver.quit()\n",
    "\n",
    "    # 이미지를 element의 위치에 맞춰서 crop 하고 저장합니다.\n",
    "    im = Image.open(BytesIO(png))\n",
    "    left = image_location['x']\n",
    "    top = image_location['y']\n",
    "    right = image_location['x'] + image_size['width']\n",
    "    bottom = image_location['y'] + image_size['height']\n",
    "    im = im.crop((left, top, right, bottom))\n",
    "    im.save(name+'_news.png')"
   ]
  },
  {
   "cell_type": "code",
   "execution_count": null,
   "id": "d6d65a07",
   "metadata": {},
   "outputs": [],
   "source": []
  }
 ],
 "metadata": {
  "kernelspec": {
   "display_name": "Python 3 (ipykernel)",
   "language": "python",
   "name": "python3"
  },
  "language_info": {
   "codemirror_mode": {
    "name": "ipython",
    "version": 3
   },
   "file_extension": ".py",
   "mimetype": "text/x-python",
   "name": "python",
   "nbconvert_exporter": "python",
   "pygments_lexer": "ipython3",
   "version": "3.9.7"
  }
 },
 "nbformat": 4,
 "nbformat_minor": 5
}
