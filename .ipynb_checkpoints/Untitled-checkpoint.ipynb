{
 "cells": [
  {
   "cell_type": "code",
   "execution_count": null,
   "id": "5c3ce7de",
   "metadata": {},
   "outputs": [],
   "source": [
    "# https://www.etoday.co.kr/news/view/2109320\n",
    "# 위 사이트 크롤링해서\n",
    "신풍제약우\n",
    "\n",
    "25일 오후 15시 3분 현재 코스피 종목인 신풍제약우\n",
    "\n",
    "왜 이렇게 많이 올랐을까?\n",
    "\n",
    "차트 보여주기(네이버 금융)\n",
    "\n",
    "우선 관련 뉴스기사를 살펴보자,\n",
    "1\n",
    "2\n",
    "3\n",
    "\n",
    "뉴스 내용을 요약하면,\n",
    "\n",
    "~\n",
    "~\n",
    "~\n",
    "이다.\n",
    "\n",
    "신풍제약의 기본 재무 상태를 확인해보면\n",
    "~ ~ ~ ~\n",
    "이다.\n",
    "\n",
    "PER은 주식 순 이익, PBR은 ~~~\n",
    "어쩌구는 ~~~~\n",
    "어쩌구는 ~~~~~~ (내가 만든 다른 사이트 참조)\n",
    "-> 기본적인 지표들을 해볼것 ,,\n",
    "\n",
    "차트를 통해 봐보면\n",
    "~~~~ ~~~~\n",
    "\n",
    "이에 대한 다른 사람들의 생각은 어떨까\n",
    "\n",
    "\n",
    "위 주식에 대한 다른 의견 있으신 분들은 댓글 남겨주세요\n",
    "\n",
    "\n"
   ]
  },
  {
   "cell_type": "code",
   "execution_count": 1,
   "id": "e1513569",
   "metadata": {},
   "outputs": [],
   "source": [
    "from bs4 import BeautifulSoup\n",
    "import requests"
   ]
  },
  {
   "cell_type": "code",
   "execution_count": 56,
   "id": "496a5fb4",
   "metadata": {},
   "outputs": [],
   "source": [
    "url = \"https://www.etoday.co.kr/news/view/2109826\"\n",
    "original_html = requests.get(url)\n",
    "html = BeautifulSoup(original_html.text, \"html.parser\")"
   ]
  },
  {
   "cell_type": "code",
   "execution_count": 57,
   "id": "e4644522",
   "metadata": {
    "scrolled": false
   },
   "outputs": [
    {
     "name": "stdout",
     "output_type": "stream",
     "text": [
      "['28일', '오전', '11시27분', '현재', '코스피', '종목인', '신풍제약우(+29.92%)가', '상한가를', '기록', '중이다.']\n"
     ]
    }
   ],
   "source": [
    "# 검색결과\n",
    "articles1 = html.select(\"div.view_contents > div.articleView > p:nth-child(1)\")[0].text\n",
    "print(articles1.split(\" \"))"
   ]
  },
  {
   "cell_type": "code",
   "execution_count": 58,
   "id": "a9a84bdb",
   "metadata": {},
   "outputs": [
    {
     "name": "stdout",
     "output_type": "stream",
     "text": [
      "현재 코스피 종목인 신풍제약우가 상한가를 기록 중입니다.\n"
     ]
    }
   ],
   "source": [
    "import re\n",
    "a = re.sub('[0-9\\.\\+\\-\\%\\(\\)]','',articles)[8:].replace(\"이다\",\"입니다.\")\n",
    "print(a)"
   ]
  },
  {
   "cell_type": "code",
   "execution_count": 59,
   "id": "e53bd7e2",
   "metadata": {},
   "outputs": [],
   "source": [
    "articles2 = html.select(\"div.view_contents > div.articleView > p:nth-child(2)\")[0].text"
   ]
  },
  {
   "cell_type": "code",
   "execution_count": 101,
   "id": "08edcff3",
   "metadata": {},
   "outputs": [
    {
     "name": "stdout",
     "output_type": "stream",
     "text": [
      "신풍제약우\n"
     ]
    }
   ],
   "source": [
    "name = list(articles2.split(\" \"))[0][:-1]\n",
    "print(name)"
   ]
  },
  {
   "cell_type": "code",
   "execution_count": 62,
   "id": "e0f16f8d",
   "metadata": {},
   "outputs": [
    {
     "name": "stdout",
     "output_type": "stream",
     "text": [
      "신풍제약우는 전 거래일 상승(▲9,650, +23.00%)에 이어 오늘 현재 상한가를 기록 중이다.\n"
     ]
    }
   ],
   "source": [
    "if \"상승\" in articles2:\n",
    "    print(articles2)"
   ]
  },
  {
   "cell_type": "code",
   "execution_count": 85,
   "id": "1d2b0fad",
   "metadata": {},
   "outputs": [],
   "source": [
    "img_url = 'https://finance.naver.com/item/main.naver?code='+'019175'\n",
    "img_html = requests.get(img_url)\n",
    "img_soup = BeautifulSoup(img_html.text, \"html.parser\")\n",
    "imgg = img_soup.select(\"#img_chart_area\")[0].get('src')"
   ]
  },
  {
   "cell_type": "code",
   "execution_count": 99,
   "id": "94d3aa48",
   "metadata": {},
   "outputs": [],
   "source": [
    "day_img_url = imgg\n",
    "week_img_url = imgg.replace(\"day\",\"week\")\n",
    "month3_img_url = imgg.replace(\"day\",\"month3\")\n",
    "year_img_url = imgg.replace(\"day\",\"year\")"
   ]
  },
  {
   "cell_type": "code",
   "execution_count": 118,
   "id": "5a0ab625",
   "metadata": {},
   "outputs": [],
   "source": [
    "from datetime import datetime\n",
    "today = datetime.today().strftime(\"%y%m%d\")"
   ]
  },
  {
   "cell_type": "code",
   "execution_count": 119,
   "id": "5b06e935",
   "metadata": {},
   "outputs": [
    {
     "data": {
      "text/plain": [
       "0"
      ]
     },
     "execution_count": 119,
     "metadata": {},
     "output_type": "execute_result"
    }
   ],
   "source": [
    "import time\n",
    "import os\n",
    "from PIL import Image\n",
    "os.system(\"curl \" + imgg + \" > \" + \"_\" + today + \"_\" + name +\".jpg\")"
   ]
  },
  {
   "cell_type": "code",
   "execution_count": 97,
   "id": "50be24d4",
   "metadata": {},
   "outputs": [
    {
     "data": {
      "image/png": "[encoded data removed]",
      "text/plain": [
       "<PIL.PngImagePlugin.PngImageFile image mode=RGB size=700x289 at 0x2344D2BB0A0>"
      ]
     },
     "execution_count": 97,
     "metadata": {},
     "output_type": "execute_result"
    }
   ],
   "source": [
    "img"
   ]
  },
  {
   "cell_type": "code",
   "execution_count": null,
   "id": "161cda10",
   "metadata": {},
   "outputs": [],
   "source": []
  }
 ],
 "metadata": {
  "kernelspec": {
   "display_name": "Python 3 (ipykernel)",
   "language": "python",
   "name": "python3"
  },
  "language_info": {
   "codemirror_mode": {
    "name": "ipython",
    "version": 3
   },
   "file_extension": ".py",
   "mimetype": "text/x-python",
   "name": "python",
   "nbconvert_exporter": "python",
   "pygments_lexer": "ipython3",
   "version": "3.9.7"
  }
 },
 "nbformat": 4,
 "nbformat_minor": 5
}
