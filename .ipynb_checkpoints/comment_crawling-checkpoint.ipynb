{
 "cells": [
  {
   "cell_type": "code",
   "execution_count": 31,
   "id": "2985fd29",
   "metadata": {},
   "outputs": [
    {
     "name": "stdout",
     "output_type": "stream",
     "text": [
      "['기관 외인은 나쁜xx들이다', '아니 올랐네 모지', \"대장동 '그분'은 이재명이 아니다.\", '7000주 주줍니다.', '코쟁이들 단타 ㅈㄴ해대네', '외인들 뒤돌아섯네', '이 종목은 신기한게', '이 종목은 신기한게', '매수기회를 주네', '오늘 야금야금 계속 떨어질뜻 ㅋㅋ', '오늘도 변함없이', '판가격에 또 다시사네 ㅋㅋ', '배당 직전엔 오를 수 밖에없다']\n"
     ]
    }
   ],
   "source": [
    "import requests\n",
    "from bs4 import BeautifulSoup\n",
    "url = \"https://finance.naver.com/item/board.naver?code=017670\"\n",
    "headers = headers = {'User-Agent' : 'Mozilla/5.0 (Macintosh; Intel Mac OS X 10_13_6) AppleWebKit/537.36'}\n",
    "r = requests.get(url, headers = headers)\n",
    "soup = BeautifulSoup(r.text, 'html.parser')\n",
    "comment_title = []\n",
    "tag = soup.select('td.title')\n",
    "for title in tag:\n",
    "    title = title.text.replace('\\t', '').replace('\\n', '')\n",
    "    if '[' in title:\n",
    "        title = title.split(\"[\")[0]\n",
    "    if len(title)>7:\n",
    "        comment_title.append(title)\n",
    "# ['/item/sise_day.nhn?code', '068270&page', '386']\n",
    "print(comment_title)"
   ]
  },
  {
   "cell_type": "code",
   "execution_count": null,
   "id": "72b9c6fb",
   "metadata": {},
   "outputs": [],
   "source": []
  }
 ],
 "metadata": {
  "kernelspec": {
   "display_name": "Python 3 (ipykernel)",
   "language": "python",
   "name": "python3"
  },
  "language_info": {
   "codemirror_mode": {
    "name": "ipython",
    "version": 3
   },
   "file_extension": ".py",
   "mimetype": "text/x-python",
   "name": "python",
   "nbconvert_exporter": "python",
   "pygments_lexer": "ipython3",
   "version": "3.9.7"
  }
 },
 "nbformat": 4,
 "nbformat_minor": 5
}
